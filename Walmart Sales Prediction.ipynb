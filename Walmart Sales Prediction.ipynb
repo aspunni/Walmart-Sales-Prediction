{
 "cells": [
  {
   "cell_type": "code",
   "execution_count": 1,
   "metadata": {},
   "outputs": [],
   "source": [
    "import numpy as np\n",
    "import pandas as pd\n",
    "\n",
    "import matplotlib.pyplot as plt\n",
    "import seaborn as sns"
   ]
  },
  {
   "cell_type": "code",
   "execution_count": 2,
   "metadata": {},
   "outputs": [
    {
     "data": {
      "text/html": [
       "<div>\n",
       "<style scoped>\n",
       "    .dataframe tbody tr th:only-of-type {\n",
       "        vertical-align: middle;\n",
       "    }\n",
       "\n",
       "    .dataframe tbody tr th {\n",
       "        vertical-align: top;\n",
       "    }\n",
       "\n",
       "    .dataframe thead th {\n",
       "        text-align: right;\n",
       "    }\n",
       "</style>\n",
       "<table border=\"1\" class=\"dataframe\">\n",
       "  <thead>\n",
       "    <tr style=\"text-align: right;\">\n",
       "      <th></th>\n",
       "      <th>Year</th>\n",
       "      <th>Month</th>\n",
       "      <th>ProductCategory</th>\n",
       "      <th>Sales(In ThousandDollars)</th>\n",
       "    </tr>\n",
       "  </thead>\n",
       "  <tbody>\n",
       "    <tr>\n",
       "      <th>0</th>\n",
       "      <td>2009</td>\n",
       "      <td>1</td>\n",
       "      <td>WomenClothing</td>\n",
       "      <td>1755.0</td>\n",
       "    </tr>\n",
       "    <tr>\n",
       "      <th>1</th>\n",
       "      <td>2009</td>\n",
       "      <td>1</td>\n",
       "      <td>MenClothing</td>\n",
       "      <td>524.0</td>\n",
       "    </tr>\n",
       "  </tbody>\n",
       "</table>\n",
       "</div>"
      ],
      "text/plain": [
       "   Year  Month ProductCategory  Sales(In ThousandDollars)\n",
       "0  2009      1   WomenClothing                     1755.0\n",
       "1  2009      1     MenClothing                      524.0"
      ]
     },
     "execution_count": 2,
     "metadata": {},
     "output_type": "execute_result"
    }
   ],
   "source": [
    "train = pd.read_csv('train.csv')\n",
    "train.head(2)"
   ]
  },
  {
   "cell_type": "code",
   "execution_count": 3,
   "metadata": {},
   "outputs": [
    {
     "data": {
      "text/html": [
       "<div>\n",
       "<style scoped>\n",
       "    .dataframe tbody tr th:only-of-type {\n",
       "        vertical-align: middle;\n",
       "    }\n",
       "\n",
       "    .dataframe tbody tr th {\n",
       "        vertical-align: top;\n",
       "    }\n",
       "\n",
       "    .dataframe thead th {\n",
       "        text-align: right;\n",
       "    }\n",
       "</style>\n",
       "<table border=\"1\" class=\"dataframe\">\n",
       "  <thead>\n",
       "    <tr style=\"text-align: right;\">\n",
       "      <th></th>\n",
       "      <th>Year</th>\n",
       "      <th>Month</th>\n",
       "      <th>ProductCategory</th>\n",
       "      <th>Unnamed: 3</th>\n",
       "      <th>Sales(In ThousandDollars)</th>\n",
       "    </tr>\n",
       "  </thead>\n",
       "  <tbody>\n",
       "    <tr>\n",
       "      <th>0</th>\n",
       "      <td>2014</td>\n",
       "      <td>1</td>\n",
       "      <td>WomenClothing</td>\n",
       "      <td>NaN</td>\n",
       "      <td>NaN</td>\n",
       "    </tr>\n",
       "    <tr>\n",
       "      <th>1</th>\n",
       "      <td>2014</td>\n",
       "      <td>1</td>\n",
       "      <td>MenClothing</td>\n",
       "      <td>NaN</td>\n",
       "      <td>NaN</td>\n",
       "    </tr>\n",
       "  </tbody>\n",
       "</table>\n",
       "</div>"
      ],
      "text/plain": [
       "   Year  Month ProductCategory  Unnamed: 3  Sales(In ThousandDollars)\n",
       "0  2014      1   WomenClothing         NaN                        NaN\n",
       "1  2014      1     MenClothing         NaN                        NaN"
      ]
     },
     "execution_count": 3,
     "metadata": {},
     "output_type": "execute_result"
    }
   ],
   "source": [
    "submission = pd.read_csv('submission.csv')\n",
    "submission.head(2)"
   ]
  },
  {
   "cell_type": "code",
   "execution_count": 4,
   "metadata": {},
   "outputs": [],
   "source": [
    "submission.drop('Unnamed: 3', axis=1, inplace=True)"
   ]
  },
  {
   "cell_type": "markdown",
   "metadata": {},
   "source": [
    "## **Base Model**"
   ]
  },
  {
   "cell_type": "code",
   "execution_count": 5,
   "metadata": {},
   "outputs": [],
   "source": [
    "from sklearn.model_selection import train_test_split, cross_val_score\n",
    "from sklearn.linear_model import LinearRegression\n",
    "from sklearn.metrics import r2_score, mean_squared_error\n",
    "import statsmodels.api as sma"
   ]
  },
  {
   "cell_type": "code",
   "execution_count": 6,
   "metadata": {},
   "outputs": [
    {
     "data": {
      "text/html": [
       "<div>\n",
       "<style scoped>\n",
       "    .dataframe tbody tr th:only-of-type {\n",
       "        vertical-align: middle;\n",
       "    }\n",
       "\n",
       "    .dataframe tbody tr th {\n",
       "        vertical-align: top;\n",
       "    }\n",
       "\n",
       "    .dataframe thead th {\n",
       "        text-align: right;\n",
       "    }\n",
       "</style>\n",
       "<table border=\"1\" class=\"dataframe\">\n",
       "  <thead>\n",
       "    <tr style=\"text-align: right;\">\n",
       "      <th></th>\n",
       "      <th>Year</th>\n",
       "      <th>Month</th>\n",
       "      <th>Sales(In ThousandDollars)</th>\n",
       "      <th>ProductCategory_OtherClothing</th>\n",
       "      <th>ProductCategory_WomenClothing</th>\n",
       "    </tr>\n",
       "  </thead>\n",
       "  <tbody>\n",
       "    <tr>\n",
       "      <th>0</th>\n",
       "      <td>2009</td>\n",
       "      <td>1</td>\n",
       "      <td>1755.0</td>\n",
       "      <td>0</td>\n",
       "      <td>1</td>\n",
       "    </tr>\n",
       "    <tr>\n",
       "      <th>1</th>\n",
       "      <td>2009</td>\n",
       "      <td>1</td>\n",
       "      <td>524.0</td>\n",
       "      <td>0</td>\n",
       "      <td>0</td>\n",
       "    </tr>\n",
       "  </tbody>\n",
       "</table>\n",
       "</div>"
      ],
      "text/plain": [
       "   Year  Month  Sales(In ThousandDollars)  ProductCategory_OtherClothing  \\\n",
       "0  2009      1                     1755.0                              0   \n",
       "1  2009      1                      524.0                              0   \n",
       "\n",
       "   ProductCategory_WomenClothing  \n",
       "0                              1  \n",
       "1                              0  "
      ]
     },
     "execution_count": 6,
     "metadata": {},
     "output_type": "execute_result"
    }
   ],
   "source": [
    "encoded_data = pd.get_dummies(data=train,columns=['ProductCategory'], drop_first=True)\n",
    "encoded_data.head(2)"
   ]
  },
  {
   "cell_type": "code",
   "execution_count": 7,
   "metadata": {},
   "outputs": [
    {
     "data": {
      "text/plain": [
       "Year                             0\n",
       "Month                            0\n",
       "Sales(In ThousandDollars)        0\n",
       "ProductCategory_OtherClothing    0\n",
       "ProductCategory_WomenClothing    0\n",
       "dtype: int64"
      ]
     },
     "execution_count": 7,
     "metadata": {},
     "output_type": "execute_result"
    }
   ],
   "source": [
    "train_wtnull = encoded_data.copy()\n",
    "train_wtnull.dropna(inplace=True)\n",
    "train_wtnull.isnull().sum()"
   ]
  },
  {
   "cell_type": "code",
   "execution_count": 8,
   "metadata": {},
   "outputs": [],
   "source": [
    "X = train_wtnull.drop(['Sales(In ThousandDollars)'], axis=1)\n",
    "y = train_wtnull['Sales(In ThousandDollars)']\n",
    "\n",
    "Xtrain, Xtest, ytrain, ytest = train_test_split(X, y, random_state=10)"
   ]
  },
  {
   "cell_type": "code",
   "execution_count": 9,
   "metadata": {},
   "outputs": [
    {
     "data": {
      "text/plain": [
       "LinearRegression()"
      ]
     },
     "execution_count": 9,
     "metadata": {},
     "output_type": "execute_result"
    }
   ],
   "source": [
    "lrmodel = LinearRegression()\n",
    "lrmodel.fit(Xtrain, ytrain)"
   ]
  },
  {
   "cell_type": "code",
   "execution_count": 10,
   "metadata": {},
   "outputs": [
    {
     "name": "stdout",
     "output_type": "stream",
     "text": [
      "[0.89975035 0.82147625 0.91212612 0.88201634 0.96542281 0.93237204\n",
      " 0.84723585 0.93438377 0.96103149 0.86805623]\n",
      "Average R2\n",
      "0.90238712558084\n"
     ]
    }
   ],
   "source": [
    "scoreslogreg = cross_val_score(lrmodel, Xtrain, ytrain, cv=10)\n",
    "print(scoreslogreg)\n",
    "print(\"Average R2\")\n",
    "print(np.mean(scoreslogreg))"
   ]
  },
  {
   "cell_type": "code",
   "execution_count": 11,
   "metadata": {},
   "outputs": [],
   "source": [
    "ypred_lr = lrmodel.predict(Xtest)"
   ]
  },
  {
   "cell_type": "code",
   "execution_count": 12,
   "metadata": {},
   "outputs": [
    {
     "name": "stdout",
     "output_type": "stream",
     "text": [
      "Test RMSE: 378.5164261995197\n"
     ]
    }
   ],
   "source": [
    "print('Test RMSE:', np.sqrt(mean_squared_error(ytest, ypred_lr)))"
   ]
  },
  {
   "cell_type": "code",
   "execution_count": 13,
   "metadata": {},
   "outputs": [
    {
     "data": {
      "text/plain": [
       "43"
      ]
     },
     "execution_count": 13,
     "metadata": {},
     "output_type": "execute_result"
    }
   ],
   "source": [
    "len(ypred_lr)"
   ]
  },
  {
   "cell_type": "code",
   "execution_count": 14,
   "metadata": {},
   "outputs": [
    {
     "data": {
      "text/plain": [
       "0.9122093263708361"
      ]
     },
     "execution_count": 14,
     "metadata": {},
     "output_type": "execute_result"
    }
   ],
   "source": [
    "full_model = lrmodel.predict(X)\n",
    "r2_score(y, full_model)"
   ]
  },
  {
   "cell_type": "code",
   "execution_count": 15,
   "metadata": {
    "scrolled": true
   },
   "outputs": [
    {
     "data": {
      "text/plain": [
       "342.1651658667953"
      ]
     },
     "execution_count": 15,
     "metadata": {},
     "output_type": "execute_result"
    }
   ],
   "source": [
    "np.sqrt(mean_squared_error(y,full_model))"
   ]
  },
  {
   "cell_type": "markdown",
   "metadata": {},
   "source": [
    "**Predicting**"
   ]
  },
  {
   "cell_type": "code",
   "execution_count": 16,
   "metadata": {},
   "outputs": [
    {
     "data": {
      "text/html": [
       "<div>\n",
       "<style scoped>\n",
       "    .dataframe tbody tr th:only-of-type {\n",
       "        vertical-align: middle;\n",
       "    }\n",
       "\n",
       "    .dataframe tbody tr th {\n",
       "        vertical-align: top;\n",
       "    }\n",
       "\n",
       "    .dataframe thead th {\n",
       "        text-align: right;\n",
       "    }\n",
       "</style>\n",
       "<table border=\"1\" class=\"dataframe\">\n",
       "  <thead>\n",
       "    <tr style=\"text-align: right;\">\n",
       "      <th></th>\n",
       "      <th>Year</th>\n",
       "      <th>Month</th>\n",
       "      <th>ProductCategory_OtherClothing</th>\n",
       "      <th>ProductCategory_WomenClothing</th>\n",
       "    </tr>\n",
       "  </thead>\n",
       "  <tbody>\n",
       "    <tr>\n",
       "      <th>0</th>\n",
       "      <td>2014</td>\n",
       "      <td>1</td>\n",
       "      <td>0</td>\n",
       "      <td>1</td>\n",
       "    </tr>\n",
       "    <tr>\n",
       "      <th>1</th>\n",
       "      <td>2014</td>\n",
       "      <td>1</td>\n",
       "      <td>0</td>\n",
       "      <td>0</td>\n",
       "    </tr>\n",
       "  </tbody>\n",
       "</table>\n",
       "</div>"
      ],
      "text/plain": [
       "   Year  Month  ProductCategory_OtherClothing  ProductCategory_WomenClothing\n",
       "0  2014      1                              0                              1\n",
       "1  2014      1                              0                              0"
      ]
     },
     "execution_count": 16,
     "metadata": {},
     "output_type": "execute_result"
    }
   ],
   "source": [
    "submission.head(2)\n",
    "submit_encoded = pd.get_dummies(data=submission.drop(['Sales(In ThousandDollars)'] , axis=1),columns=['ProductCategory'], drop_first=True)\n",
    "submit_encoded.head(2)"
   ]
  },
  {
   "cell_type": "code",
   "execution_count": 17,
   "metadata": {},
   "outputs": [
    {
     "data": {
      "text/plain": [
       "array([3243.94962319,  779.43881432, 1198.29414774, 3292.97773915,\n",
       "        828.46693028, 1247.3222637 , 3342.00585511,  877.49504624,\n",
       "       1296.35037966, 3391.03397107,  926.5231622 , 1345.37849562,\n",
       "       3440.06208703,  975.55127816, 1394.40661158, 3489.09020299,\n",
       "       1024.57939412, 1443.43472754, 3538.11831895, 1073.60751008,\n",
       "       1492.4628435 , 3587.14643491, 1122.63562604, 1541.49095946,\n",
       "       3636.17455087, 1171.663742  , 1590.51907542, 3685.20266683,\n",
       "       1220.69185796, 1639.54719138, 3734.23078279, 1269.71997392,\n",
       "       1688.57530734, 3783.25889875, 1318.74808988, 1737.6034233 ])"
      ]
     },
     "execution_count": 17,
     "metadata": {},
     "output_type": "execute_result"
    }
   ],
   "source": [
    "submit_pred = lrmodel.predict(submit_encoded)\n",
    "submit_pred"
   ]
  },
  {
   "cell_type": "code",
   "execution_count": 18,
   "metadata": {},
   "outputs": [
    {
     "data": {
      "text/html": [
       "<div>\n",
       "<style scoped>\n",
       "    .dataframe tbody tr th:only-of-type {\n",
       "        vertical-align: middle;\n",
       "    }\n",
       "\n",
       "    .dataframe tbody tr th {\n",
       "        vertical-align: top;\n",
       "    }\n",
       "\n",
       "    .dataframe thead th {\n",
       "        text-align: right;\n",
       "    }\n",
       "</style>\n",
       "<table border=\"1\" class=\"dataframe\">\n",
       "  <thead>\n",
       "    <tr style=\"text-align: right;\">\n",
       "      <th></th>\n",
       "      <th>Year</th>\n",
       "      <th>Sales(In ThousandDollars)</th>\n",
       "    </tr>\n",
       "  </thead>\n",
       "  <tbody>\n",
       "    <tr>\n",
       "      <th>0</th>\n",
       "      <td>1</td>\n",
       "      <td>3243.949623</td>\n",
       "    </tr>\n",
       "    <tr>\n",
       "      <th>1</th>\n",
       "      <td>2</td>\n",
       "      <td>779.438814</td>\n",
       "    </tr>\n",
       "    <tr>\n",
       "      <th>2</th>\n",
       "      <td>3</td>\n",
       "      <td>1198.294148</td>\n",
       "    </tr>\n",
       "    <tr>\n",
       "      <th>3</th>\n",
       "      <td>4</td>\n",
       "      <td>3292.977739</td>\n",
       "    </tr>\n",
       "    <tr>\n",
       "      <th>4</th>\n",
       "      <td>5</td>\n",
       "      <td>828.466930</td>\n",
       "    </tr>\n",
       "    <tr>\n",
       "      <th>5</th>\n",
       "      <td>6</td>\n",
       "      <td>1247.322264</td>\n",
       "    </tr>\n",
       "    <tr>\n",
       "      <th>6</th>\n",
       "      <td>7</td>\n",
       "      <td>3342.005855</td>\n",
       "    </tr>\n",
       "    <tr>\n",
       "      <th>7</th>\n",
       "      <td>8</td>\n",
       "      <td>877.495046</td>\n",
       "    </tr>\n",
       "    <tr>\n",
       "      <th>8</th>\n",
       "      <td>9</td>\n",
       "      <td>1296.350380</td>\n",
       "    </tr>\n",
       "    <tr>\n",
       "      <th>9</th>\n",
       "      <td>10</td>\n",
       "      <td>3391.033971</td>\n",
       "    </tr>\n",
       "    <tr>\n",
       "      <th>10</th>\n",
       "      <td>11</td>\n",
       "      <td>926.523162</td>\n",
       "    </tr>\n",
       "    <tr>\n",
       "      <th>11</th>\n",
       "      <td>12</td>\n",
       "      <td>1345.378496</td>\n",
       "    </tr>\n",
       "    <tr>\n",
       "      <th>12</th>\n",
       "      <td>13</td>\n",
       "      <td>3440.062087</td>\n",
       "    </tr>\n",
       "    <tr>\n",
       "      <th>13</th>\n",
       "      <td>14</td>\n",
       "      <td>975.551278</td>\n",
       "    </tr>\n",
       "    <tr>\n",
       "      <th>14</th>\n",
       "      <td>15</td>\n",
       "      <td>1394.406612</td>\n",
       "    </tr>\n",
       "    <tr>\n",
       "      <th>15</th>\n",
       "      <td>16</td>\n",
       "      <td>3489.090203</td>\n",
       "    </tr>\n",
       "    <tr>\n",
       "      <th>16</th>\n",
       "      <td>17</td>\n",
       "      <td>1024.579394</td>\n",
       "    </tr>\n",
       "    <tr>\n",
       "      <th>17</th>\n",
       "      <td>18</td>\n",
       "      <td>1443.434728</td>\n",
       "    </tr>\n",
       "    <tr>\n",
       "      <th>18</th>\n",
       "      <td>19</td>\n",
       "      <td>3538.118319</td>\n",
       "    </tr>\n",
       "    <tr>\n",
       "      <th>19</th>\n",
       "      <td>20</td>\n",
       "      <td>1073.607510</td>\n",
       "    </tr>\n",
       "    <tr>\n",
       "      <th>20</th>\n",
       "      <td>21</td>\n",
       "      <td>1492.462844</td>\n",
       "    </tr>\n",
       "    <tr>\n",
       "      <th>21</th>\n",
       "      <td>22</td>\n",
       "      <td>3587.146435</td>\n",
       "    </tr>\n",
       "    <tr>\n",
       "      <th>22</th>\n",
       "      <td>23</td>\n",
       "      <td>1122.635626</td>\n",
       "    </tr>\n",
       "    <tr>\n",
       "      <th>23</th>\n",
       "      <td>24</td>\n",
       "      <td>1541.490959</td>\n",
       "    </tr>\n",
       "    <tr>\n",
       "      <th>24</th>\n",
       "      <td>25</td>\n",
       "      <td>3636.174551</td>\n",
       "    </tr>\n",
       "    <tr>\n",
       "      <th>25</th>\n",
       "      <td>26</td>\n",
       "      <td>1171.663742</td>\n",
       "    </tr>\n",
       "    <tr>\n",
       "      <th>26</th>\n",
       "      <td>27</td>\n",
       "      <td>1590.519075</td>\n",
       "    </tr>\n",
       "    <tr>\n",
       "      <th>27</th>\n",
       "      <td>28</td>\n",
       "      <td>3685.202667</td>\n",
       "    </tr>\n",
       "    <tr>\n",
       "      <th>28</th>\n",
       "      <td>29</td>\n",
       "      <td>1220.691858</td>\n",
       "    </tr>\n",
       "    <tr>\n",
       "      <th>29</th>\n",
       "      <td>30</td>\n",
       "      <td>1639.547191</td>\n",
       "    </tr>\n",
       "    <tr>\n",
       "      <th>30</th>\n",
       "      <td>31</td>\n",
       "      <td>3734.230783</td>\n",
       "    </tr>\n",
       "    <tr>\n",
       "      <th>31</th>\n",
       "      <td>32</td>\n",
       "      <td>1269.719974</td>\n",
       "    </tr>\n",
       "    <tr>\n",
       "      <th>32</th>\n",
       "      <td>33</td>\n",
       "      <td>1688.575307</td>\n",
       "    </tr>\n",
       "    <tr>\n",
       "      <th>33</th>\n",
       "      <td>34</td>\n",
       "      <td>3783.258899</td>\n",
       "    </tr>\n",
       "    <tr>\n",
       "      <th>34</th>\n",
       "      <td>35</td>\n",
       "      <td>1318.748090</td>\n",
       "    </tr>\n",
       "    <tr>\n",
       "      <th>35</th>\n",
       "      <td>36</td>\n",
       "      <td>1737.603423</td>\n",
       "    </tr>\n",
       "  </tbody>\n",
       "</table>\n",
       "</div>"
      ],
      "text/plain": [
       "    Year  Sales(In ThousandDollars)\n",
       "0      1                3243.949623\n",
       "1      2                 779.438814\n",
       "2      3                1198.294148\n",
       "3      4                3292.977739\n",
       "4      5                 828.466930\n",
       "5      6                1247.322264\n",
       "6      7                3342.005855\n",
       "7      8                 877.495046\n",
       "8      9                1296.350380\n",
       "9     10                3391.033971\n",
       "10    11                 926.523162\n",
       "11    12                1345.378496\n",
       "12    13                3440.062087\n",
       "13    14                 975.551278\n",
       "14    15                1394.406612\n",
       "15    16                3489.090203\n",
       "16    17                1024.579394\n",
       "17    18                1443.434728\n",
       "18    19                3538.118319\n",
       "19    20                1073.607510\n",
       "20    21                1492.462844\n",
       "21    22                3587.146435\n",
       "22    23                1122.635626\n",
       "23    24                1541.490959\n",
       "24    25                3636.174551\n",
       "25    26                1171.663742\n",
       "26    27                1590.519075\n",
       "27    28                3685.202667\n",
       "28    29                1220.691858\n",
       "29    30                1639.547191\n",
       "30    31                3734.230783\n",
       "31    32                1269.719974\n",
       "32    33                1688.575307\n",
       "33    34                3783.258899\n",
       "34    35                1318.748090\n",
       "35    36                1737.603423"
      ]
     },
     "execution_count": 18,
     "metadata": {},
     "output_type": "execute_result"
    }
   ],
   "source": [
    "submit_v1 = pd.DataFrame({\"Year\": np.arange(1,37), \"Sales(In ThousandDollars)\":submit_pred})\n",
    "submit_v1"
   ]
  },
  {
   "cell_type": "markdown",
   "metadata": {},
   "source": [
    "submit_v1.to_csv(\"submit_v1.csv\", index = False)"
   ]
  },
  {
   "cell_type": "markdown",
   "metadata": {},
   "source": [
    "# **Improving Model Accuracy**"
   ]
  },
  {
   "cell_type": "code",
   "execution_count": 19,
   "metadata": {},
   "outputs": [
    {
     "data": {
      "text/html": [
       "<div>\n",
       "<style scoped>\n",
       "    .dataframe tbody tr th:only-of-type {\n",
       "        vertical-align: middle;\n",
       "    }\n",
       "\n",
       "    .dataframe tbody tr th {\n",
       "        vertical-align: top;\n",
       "    }\n",
       "\n",
       "    .dataframe thead th {\n",
       "        text-align: right;\n",
       "    }\n",
       "</style>\n",
       "<table border=\"1\" class=\"dataframe\">\n",
       "  <thead>\n",
       "    <tr style=\"text-align: right;\">\n",
       "      <th></th>\n",
       "      <th>Year</th>\n",
       "      <th>Month</th>\n",
       "      <th>Sales(In ThousandDollars)</th>\n",
       "      <th>ProductCategory_OtherClothing</th>\n",
       "      <th>ProductCategory_WomenClothing</th>\n",
       "    </tr>\n",
       "  </thead>\n",
       "  <tbody>\n",
       "    <tr>\n",
       "      <th>0</th>\n",
       "      <td>2009</td>\n",
       "      <td>1</td>\n",
       "      <td>1755.0</td>\n",
       "      <td>0</td>\n",
       "      <td>1</td>\n",
       "    </tr>\n",
       "    <tr>\n",
       "      <th>1</th>\n",
       "      <td>2009</td>\n",
       "      <td>1</td>\n",
       "      <td>524.0</td>\n",
       "      <td>0</td>\n",
       "      <td>0</td>\n",
       "    </tr>\n",
       "  </tbody>\n",
       "</table>\n",
       "</div>"
      ],
      "text/plain": [
       "   Year  Month  Sales(In ThousandDollars)  ProductCategory_OtherClothing  \\\n",
       "0  2009      1                     1755.0                              0   \n",
       "1  2009      1                      524.0                              0   \n",
       "\n",
       "   ProductCategory_WomenClothing  \n",
       "0                              1  \n",
       "1                              0  "
      ]
     },
     "execution_count": 19,
     "metadata": {},
     "output_type": "execute_result"
    }
   ],
   "source": [
    "encoded_data.head(2)"
   ]
  },
  {
   "cell_type": "code",
   "execution_count": 20,
   "metadata": {},
   "outputs": [
    {
     "data": {
      "text/plain": [
       "Sales(In ThousandDollars)        1.000355\n",
       "ProductCategory_OtherClothing    0.732386\n",
       "ProductCategory_WomenClothing    0.703996\n",
       "Month                            0.012205\n",
       "Year                             0.008745\n",
       "dtype: float64"
      ]
     },
     "execution_count": 20,
     "metadata": {},
     "output_type": "execute_result"
    }
   ],
   "source": [
    "train_wtnull.skew().sort_values(ascending=False)"
   ]
  },
  {
   "cell_type": "code",
   "execution_count": 21,
   "metadata": {},
   "outputs": [
    {
     "data": {
      "image/png": "[encoded data removed]",
      "text/plain": [
       "<Figure size 432x288 with 6 Axes>"
      ]
     },
     "metadata": {
      "needs_background": "light"
     },
     "output_type": "display_data"
    }
   ],
   "source": [
    "train_wtnull.hist()\n",
    "plt.tight_layout()\n",
    "plt.show()"
   ]
  },
  {
   "cell_type": "markdown",
   "metadata": {},
   "source": [
    "**Transformation (since data is highly skewed)**"
   ]
  },
  {
   "cell_type": "code",
   "execution_count": 22,
   "metadata": {},
   "outputs": [],
   "source": [
    "from sklearn.pipeline import Pipeline\n",
    "from sklearn.model_selection import cross_val_score\n",
    "from sklearn.preprocessing import PowerTransformer"
   ]
  },
  {
   "cell_type": "code",
   "execution_count": 23,
   "metadata": {},
   "outputs": [],
   "source": [
    "pt = PowerTransformer()\n",
    "train_imputed = pd.DataFrame(pt.fit_transform(Xtrain), columns = Xtrain.columns)\n",
    "test_imputed  = pd.DataFrame(pt.transform(Xtest)     , columns = Xtest.columns)"
   ]
  },
  {
   "cell_type": "code",
   "execution_count": 24,
   "metadata": {},
   "outputs": [
    {
     "data": {
      "text/plain": [
       "((127, 4), (43, 4))"
      ]
     },
     "execution_count": 24,
     "metadata": {},
     "output_type": "execute_result"
    }
   ],
   "source": [
    "train_imputed.shape, test_imputed.shape"
   ]
  },
  {
   "cell_type": "markdown",
   "metadata": {},
   "source": [
    "### **Implementing Base Model on Transformed Data**"
   ]
  },
  {
   "cell_type": "code",
   "execution_count": 25,
   "metadata": {},
   "outputs": [
    {
     "data": {
      "text/plain": [
       "LinearRegression()"
      ]
     },
     "execution_count": 25,
     "metadata": {},
     "output_type": "execute_result"
    }
   ],
   "source": [
    "lrmodel_v1 = LinearRegression()\n",
    "lrmodel_v1.fit(train_imputed, ytrain)"
   ]
  },
  {
   "cell_type": "code",
   "execution_count": 26,
   "metadata": {},
   "outputs": [
    {
     "name": "stdout",
     "output_type": "stream",
     "text": [
      "[0.90038212 0.82850796 0.91264697 0.88056038 0.96341065 0.93401892\n",
      " 0.84600784 0.93521306 0.96036004 0.86997859]\n",
      "Average R2\n",
      "0.9031086530659798\n"
     ]
    }
   ],
   "source": [
    "scoreslogreg_v1 = cross_val_score(lrmodel_v1, train_imputed, ytrain, cv=10)\n",
    "print(scoreslogreg_v1)\n",
    "print(\"Average R2\")\n",
    "print(np.mean(scoreslogreg_v1))"
   ]
  },
  {
   "cell_type": "code",
   "execution_count": 27,
   "metadata": {},
   "outputs": [],
   "source": [
    "ypred_transformed = lrmodel_v1.predict(test_imputed)"
   ]
  },
  {
   "cell_type": "code",
   "execution_count": 28,
   "metadata": {},
   "outputs": [
    {
     "name": "stdout",
     "output_type": "stream",
     "text": [
      "Test RMSE: 380.55059907747017\n"
     ]
    }
   ],
   "source": [
    "print('Test RMSE:', np.sqrt(mean_squared_error(ytest, ypred_transformed)))"
   ]
  },
  {
   "cell_type": "markdown",
   "metadata": {},
   "source": [
    "**Applying Decision Tree Regressor since Transformation had no Effect on Linear Model**"
   ]
  },
  {
   "cell_type": "markdown",
   "metadata": {},
   "source": [
    "# `Decision Tree Regressor`"
   ]
  },
  {
   "cell_type": "markdown",
   "metadata": {},
   "source": [
    "**Default Model**"
   ]
  },
  {
   "cell_type": "code",
   "execution_count": 29,
   "metadata": {},
   "outputs": [],
   "source": [
    "from sklearn.tree import DecisionTreeRegressor"
   ]
  },
  {
   "cell_type": "code",
   "execution_count": 30,
   "metadata": {},
   "outputs": [
    {
     "data": {
      "text/plain": [
       "DecisionTreeRegressor()"
      ]
     },
     "execution_count": 30,
     "metadata": {},
     "output_type": "execute_result"
    }
   ],
   "source": [
    "dtmodel = DecisionTreeRegressor()\n",
    "dtmodel.fit(train_imputed, ytrain)"
   ]
  },
  {
   "cell_type": "code",
   "execution_count": 31,
   "metadata": {},
   "outputs": [
    {
     "name": "stdout",
     "output_type": "stream",
     "text": [
      "[0.97872437 0.96541003 0.96991943 0.93960744 0.98510177 0.98156377\n",
      " 0.99284378 0.93071379 0.94465147 0.95895764]\n",
      "Average R2\n",
      " 0.9647493472962447\n"
     ]
    }
   ],
   "source": [
    "scoresdt = cross_val_score(dtmodel, train_imputed, ytrain, cv=10)\n",
    "print(scoresdt)\n",
    "dt_r2 = np.mean(scoresdt)\n",
    "print(\"Average R2\\n\",dt_r2)"
   ]
  },
  {
   "cell_type": "code",
   "execution_count": 32,
   "metadata": {},
   "outputs": [],
   "source": [
    "ypred_dt = dtmodel.predict(test_imputed)"
   ]
  },
  {
   "cell_type": "code",
   "execution_count": 50,
   "metadata": {},
   "outputs": [
    {
     "name": "stdout",
     "output_type": "stream",
     "text": [
      "Test RMSE: 115.06297567894298\n"
     ]
    }
   ],
   "source": [
    "dt_rmse = np.sqrt(mean_squared_error(ytest, ypred_dt))\n",
    "print('Test RMSE:', dt_rmse)"
   ]
  },
  {
   "cell_type": "markdown",
   "metadata": {},
   "source": [
    "`Inference:`\n",
    "**The model is clearly overfit but RMSE is reduced** \n",
    "**Checking the submission file with this model**"
   ]
  },
  {
   "cell_type": "markdown",
   "metadata": {},
   "source": [
    "### Preparing Data for Submission"
   ]
  },
  {
   "cell_type": "code",
   "execution_count": 35,
   "metadata": {},
   "outputs": [
    {
     "data": {
      "text/plain": [
       "array([3590.,  785., 1209., 4865., 1085., 1566., 4865., 1085., 1566.,\n",
       "       4865., 1085., 1566., 4865., 1085., 1566., 4865., 1085., 1566.,\n",
       "       4865., 1085., 1566., 4865., 1085., 1566., 4865., 1085., 1566.,\n",
       "       4865., 1085., 1566., 4865., 1085., 1566., 4865., 1085., 1566.])"
      ]
     },
     "execution_count": 35,
     "metadata": {},
     "output_type": "execute_result"
    }
   ],
   "source": [
    "submit_pred_v2 = dtmodel.predict(submit_encoded)\n",
    "submit_pred_v2"
   ]
  },
  {
   "cell_type": "code",
   "execution_count": 36,
   "metadata": {
    "scrolled": true
   },
   "outputs": [
    {
     "data": {
      "text/html": [
       "<div>\n",
       "<style scoped>\n",
       "    .dataframe tbody tr th:only-of-type {\n",
       "        vertical-align: middle;\n",
       "    }\n",
       "\n",
       "    .dataframe tbody tr th {\n",
       "        vertical-align: top;\n",
       "    }\n",
       "\n",
       "    .dataframe thead th {\n",
       "        text-align: right;\n",
       "    }\n",
       "</style>\n",
       "<table border=\"1\" class=\"dataframe\">\n",
       "  <thead>\n",
       "    <tr style=\"text-align: right;\">\n",
       "      <th></th>\n",
       "      <th>Year</th>\n",
       "      <th>Sales(In ThousandDollars)</th>\n",
       "    </tr>\n",
       "  </thead>\n",
       "  <tbody>\n",
       "    <tr>\n",
       "      <th>0</th>\n",
       "      <td>1</td>\n",
       "      <td>3590.0</td>\n",
       "    </tr>\n",
       "    <tr>\n",
       "      <th>1</th>\n",
       "      <td>2</td>\n",
       "      <td>785.0</td>\n",
       "    </tr>\n",
       "    <tr>\n",
       "      <th>2</th>\n",
       "      <td>3</td>\n",
       "      <td>1209.0</td>\n",
       "    </tr>\n",
       "    <tr>\n",
       "      <th>3</th>\n",
       "      <td>4</td>\n",
       "      <td>4865.0</td>\n",
       "    </tr>\n",
       "    <tr>\n",
       "      <th>4</th>\n",
       "      <td>5</td>\n",
       "      <td>1085.0</td>\n",
       "    </tr>\n",
       "    <tr>\n",
       "      <th>5</th>\n",
       "      <td>6</td>\n",
       "      <td>1566.0</td>\n",
       "    </tr>\n",
       "    <tr>\n",
       "      <th>6</th>\n",
       "      <td>7</td>\n",
       "      <td>4865.0</td>\n",
       "    </tr>\n",
       "    <tr>\n",
       "      <th>7</th>\n",
       "      <td>8</td>\n",
       "      <td>1085.0</td>\n",
       "    </tr>\n",
       "    <tr>\n",
       "      <th>8</th>\n",
       "      <td>9</td>\n",
       "      <td>1566.0</td>\n",
       "    </tr>\n",
       "    <tr>\n",
       "      <th>9</th>\n",
       "      <td>10</td>\n",
       "      <td>4865.0</td>\n",
       "    </tr>\n",
       "    <tr>\n",
       "      <th>10</th>\n",
       "      <td>11</td>\n",
       "      <td>1085.0</td>\n",
       "    </tr>\n",
       "    <tr>\n",
       "      <th>11</th>\n",
       "      <td>12</td>\n",
       "      <td>1566.0</td>\n",
       "    </tr>\n",
       "    <tr>\n",
       "      <th>12</th>\n",
       "      <td>13</td>\n",
       "      <td>4865.0</td>\n",
       "    </tr>\n",
       "    <tr>\n",
       "      <th>13</th>\n",
       "      <td>14</td>\n",
       "      <td>1085.0</td>\n",
       "    </tr>\n",
       "    <tr>\n",
       "      <th>14</th>\n",
       "      <td>15</td>\n",
       "      <td>1566.0</td>\n",
       "    </tr>\n",
       "    <tr>\n",
       "      <th>15</th>\n",
       "      <td>16</td>\n",
       "      <td>4865.0</td>\n",
       "    </tr>\n",
       "    <tr>\n",
       "      <th>16</th>\n",
       "      <td>17</td>\n",
       "      <td>1085.0</td>\n",
       "    </tr>\n",
       "    <tr>\n",
       "      <th>17</th>\n",
       "      <td>18</td>\n",
       "      <td>1566.0</td>\n",
       "    </tr>\n",
       "    <tr>\n",
       "      <th>18</th>\n",
       "      <td>19</td>\n",
       "      <td>4865.0</td>\n",
       "    </tr>\n",
       "    <tr>\n",
       "      <th>19</th>\n",
       "      <td>20</td>\n",
       "      <td>1085.0</td>\n",
       "    </tr>\n",
       "    <tr>\n",
       "      <th>20</th>\n",
       "      <td>21</td>\n",
       "      <td>1566.0</td>\n",
       "    </tr>\n",
       "    <tr>\n",
       "      <th>21</th>\n",
       "      <td>22</td>\n",
       "      <td>4865.0</td>\n",
       "    </tr>\n",
       "    <tr>\n",
       "      <th>22</th>\n",
       "      <td>23</td>\n",
       "      <td>1085.0</td>\n",
       "    </tr>\n",
       "    <tr>\n",
       "      <th>23</th>\n",
       "      <td>24</td>\n",
       "      <td>1566.0</td>\n",
       "    </tr>\n",
       "    <tr>\n",
       "      <th>24</th>\n",
       "      <td>25</td>\n",
       "      <td>4865.0</td>\n",
       "    </tr>\n",
       "    <tr>\n",
       "      <th>25</th>\n",
       "      <td>26</td>\n",
       "      <td>1085.0</td>\n",
       "    </tr>\n",
       "    <tr>\n",
       "      <th>26</th>\n",
       "      <td>27</td>\n",
       "      <td>1566.0</td>\n",
       "    </tr>\n",
       "    <tr>\n",
       "      <th>27</th>\n",
       "      <td>28</td>\n",
       "      <td>4865.0</td>\n",
       "    </tr>\n",
       "    <tr>\n",
       "      <th>28</th>\n",
       "      <td>29</td>\n",
       "      <td>1085.0</td>\n",
       "    </tr>\n",
       "    <tr>\n",
       "      <th>29</th>\n",
       "      <td>30</td>\n",
       "      <td>1566.0</td>\n",
       "    </tr>\n",
       "    <tr>\n",
       "      <th>30</th>\n",
       "      <td>31</td>\n",
       "      <td>4865.0</td>\n",
       "    </tr>\n",
       "    <tr>\n",
       "      <th>31</th>\n",
       "      <td>32</td>\n",
       "      <td>1085.0</td>\n",
       "    </tr>\n",
       "    <tr>\n",
       "      <th>32</th>\n",
       "      <td>33</td>\n",
       "      <td>1566.0</td>\n",
       "    </tr>\n",
       "    <tr>\n",
       "      <th>33</th>\n",
       "      <td>34</td>\n",
       "      <td>4865.0</td>\n",
       "    </tr>\n",
       "    <tr>\n",
       "      <th>34</th>\n",
       "      <td>35</td>\n",
       "      <td>1085.0</td>\n",
       "    </tr>\n",
       "    <tr>\n",
       "      <th>35</th>\n",
       "      <td>36</td>\n",
       "      <td>1566.0</td>\n",
       "    </tr>\n",
       "  </tbody>\n",
       "</table>\n",
       "</div>"
      ],
      "text/plain": [
       "    Year  Sales(In ThousandDollars)\n",
       "0      1                     3590.0\n",
       "1      2                      785.0\n",
       "2      3                     1209.0\n",
       "3      4                     4865.0\n",
       "4      5                     1085.0\n",
       "5      6                     1566.0\n",
       "6      7                     4865.0\n",
       "7      8                     1085.0\n",
       "8      9                     1566.0\n",
       "9     10                     4865.0\n",
       "10    11                     1085.0\n",
       "11    12                     1566.0\n",
       "12    13                     4865.0\n",
       "13    14                     1085.0\n",
       "14    15                     1566.0\n",
       "15    16                     4865.0\n",
       "16    17                     1085.0\n",
       "17    18                     1566.0\n",
       "18    19                     4865.0\n",
       "19    20                     1085.0\n",
       "20    21                     1566.0\n",
       "21    22                     4865.0\n",
       "22    23                     1085.0\n",
       "23    24                     1566.0\n",
       "24    25                     4865.0\n",
       "25    26                     1085.0\n",
       "26    27                     1566.0\n",
       "27    28                     4865.0\n",
       "28    29                     1085.0\n",
       "29    30                     1566.0\n",
       "30    31                     4865.0\n",
       "31    32                     1085.0\n",
       "32    33                     1566.0\n",
       "33    34                     4865.0\n",
       "34    35                     1085.0\n",
       "35    36                     1566.0"
      ]
     },
     "execution_count": 36,
     "metadata": {},
     "output_type": "execute_result"
    }
   ],
   "source": [
    "submit_v2 = pd.DataFrame({\"Year\": np.arange(1,37), \"Sales(In ThousandDollars)\":submit_pred_v2})\n",
    "submit_v2"
   ]
  },
  {
   "cell_type": "markdown",
   "metadata": {},
   "source": [
    "submit_v2.to_csv(\"submit_v2.csv\", index = False)"
   ]
  },
  {
   "cell_type": "markdown",
   "metadata": {},
   "source": [
    "## `GridSearchCV for Best Params`"
   ]
  },
  {
   "cell_type": "code",
   "execution_count": 37,
   "metadata": {},
   "outputs": [],
   "source": [
    "from sklearn.model_selection import GridSearchCV"
   ]
  },
  {
   "cell_type": "code",
   "execution_count": 38,
   "metadata": {},
   "outputs": [],
   "source": [
    "dtr_tuned_parameters = [{'criterion':['mse'],\n",
    "                         'max_depth':range(2,5),\n",
    "                         'max_features':['sqrt','log2'],\n",
    "                         'min_samples_split':range(2,5),\n",
    "                         'min_samples_leaf':range(1,5),\n",
    "                         'max_leaf_nodes':range(2,5)}]"
   ]
  },
  {
   "cell_type": "code",
   "execution_count": 39,
   "metadata": {},
   "outputs": [],
   "source": [
    "gridcv = GridSearchCV(estimator=DecisionTreeRegressor(), param_grid=dtr_tuned_parameters)"
   ]
  },
  {
   "cell_type": "code",
   "execution_count": 40,
   "metadata": {},
   "outputs": [],
   "source": [
    "dt_gridmodel = gridcv.fit(train_imputed, ytrain)"
   ]
  },
  {
   "cell_type": "code",
   "execution_count": 41,
   "metadata": {
    "scrolled": true
   },
   "outputs": [
    {
     "data": {
      "text/plain": [
       "{'criterion': 'mse',\n",
       " 'max_depth': 2,\n",
       " 'max_features': 'sqrt',\n",
       " 'max_leaf_nodes': 4,\n",
       " 'min_samples_leaf': 3,\n",
       " 'min_samples_split': 4}"
      ]
     },
     "execution_count": 41,
     "metadata": {},
     "output_type": "execute_result"
    }
   ],
   "source": [
    "dt_gridmodel.best_params_"
   ]
  },
  {
   "cell_type": "markdown",
   "metadata": {},
   "source": [
    "## `Best Fit DT Model`"
   ]
  },
  {
   "cell_type": "code",
   "execution_count": 42,
   "metadata": {},
   "outputs": [
    {
     "data": {
      "text/plain": [
       "DecisionTreeRegressor(max_depth=2, max_features='log2', max_leaf_nodes=4,\n",
       "                      min_samples_leaf=4, min_samples_split=4)"
      ]
     },
     "execution_count": 42,
     "metadata": {},
     "output_type": "execute_result"
    }
   ],
   "source": [
    "best_dtmodel = DecisionTreeRegressor(criterion= 'mse',\n",
    "                                max_depth= 2,\n",
    "                                max_features= 'log2',\n",
    "                                max_leaf_nodes= 4,\n",
    "                                min_samples_leaf= 4,\n",
    "                                min_samples_split= 4)\n",
    "best_dtmodel.fit(train_imputed, ytrain)"
   ]
  },
  {
   "cell_type": "code",
   "execution_count": 43,
   "metadata": {},
   "outputs": [
    {
     "name": "stdout",
     "output_type": "stream",
     "text": [
      "[ 0.22391907 -0.42575322  0.80833475  0.77680706 -0.23369571  0.91631069\n",
      "  0.79710003  0.9495965   0.90725234  0.28322009]\n",
      "Average R2\n",
      " 0.5003091599549627\n"
     ]
    }
   ],
   "source": [
    "scores_best_dt = cross_val_score(best_dtmodel, train_imputed, ytrain, cv=10)\n",
    "print(scores_best_dt)\n",
    "best_dt_r2 = np.mean(scores_best_dt)\n",
    "print(\"Average R2\\n\",best_dt_r2)"
   ]
  },
  {
   "cell_type": "code",
   "execution_count": 47,
   "metadata": {},
   "outputs": [],
   "source": [
    "ypred_bestdt = best_dtmodel.predict(test_imputed)"
   ]
  },
  {
   "cell_type": "code",
   "execution_count": 49,
   "metadata": {},
   "outputs": [
    {
     "name": "stdout",
     "output_type": "stream",
     "text": [
      "Test RMSE: 906.3117223065587\n"
     ]
    }
   ],
   "source": [
    "best_dt_rmse = np.sqrt(mean_squared_error(ytest, ypred_bestdt))\n",
    "print('Test RMSE:', dt_rmse)"
   ]
  },
  {
   "cell_type": "code",
   "execution_count": 53,
   "metadata": {
    "scrolled": true
   },
   "outputs": [
    {
     "data": {
      "text/html": [
       "<div>\n",
       "<style scoped>\n",
       "    .dataframe tbody tr th:only-of-type {\n",
       "        vertical-align: middle;\n",
       "    }\n",
       "\n",
       "    .dataframe tbody tr th {\n",
       "        vertical-align: top;\n",
       "    }\n",
       "\n",
       "    .dataframe thead th {\n",
       "        text-align: right;\n",
       "    }\n",
       "</style>\n",
       "<table border=\"1\" class=\"dataframe\">\n",
       "  <thead>\n",
       "    <tr style=\"text-align: right;\">\n",
       "      <th></th>\n",
       "      <th>RMSE</th>\n",
       "      <th>R2 Score</th>\n",
       "    </tr>\n",
       "  </thead>\n",
       "  <tbody>\n",
       "    <tr>\n",
       "      <th>Base Model</th>\n",
       "      <td>378.516426</td>\n",
       "      <td>0.902387</td>\n",
       "    </tr>\n",
       "    <tr>\n",
       "      <th>Base Model:Transformed Data</th>\n",
       "      <td>380.550599</td>\n",
       "      <td>0.903109</td>\n",
       "    </tr>\n",
       "    <tr>\n",
       "      <th>Decision Tree Regressor</th>\n",
       "      <td>115.062976</td>\n",
       "      <td>0.964749</td>\n",
       "    </tr>\n",
       "    <tr>\n",
       "      <th>Best Fit:Decision Tree Regressor</th>\n",
       "      <td>906.311722</td>\n",
       "      <td>0.500309</td>\n",
       "    </tr>\n",
       "  </tbody>\n",
       "</table>\n",
       "</div>"
      ],
      "text/plain": [
       "                                        RMSE  R2 Score\n",
       "Base Model                        378.516426  0.902387\n",
       "Base Model:Transformed Data       380.550599  0.903109\n",
       "Decision Tree Regressor           115.062976  0.964749\n",
       "Best Fit:Decision Tree Regressor  906.311722  0.500309"
      ]
     },
     "execution_count": 53,
     "metadata": {},
     "output_type": "execute_result"
    }
   ],
   "source": [
    "rmse_r2 = pd.DataFrame({\n",
    "                        'RMSE':[np.sqrt(mean_squared_error(ytest, ypred_lr)), np.sqrt(mean_squared_error(ytest, ypred_transformed)), dt_rmse, best_dt_rmse],\n",
    "                        'R2 Score':[np.mean(scoreslogreg), np.mean(scoreslogreg_v1), dt_r2, best_dt_r2]},\n",
    "                        index=['Base Model', 'Base Model:Transformed Data','Decision Tree Regressor', 'Best Fit:Decision Tree Regressor'])\n",
    "rmse_r2"
   ]
  },
  {
   "cell_type": "markdown",
   "metadata": {},
   "source": [
    "**Since the Default Decision Tree is Overfit hence will apply RandomForestRegressor**"
   ]
  },
  {
   "cell_type": "markdown",
   "metadata": {},
   "source": [
    "# `Random Forest Regressor`"
   ]
  },
  {
   "cell_type": "markdown",
   "metadata": {},
   "source": [
    "**Default Model**"
   ]
  },
  {
   "cell_type": "code",
   "execution_count": 55,
   "metadata": {},
   "outputs": [],
   "source": [
    "from sklearn.ensemble import RandomForestRegressor"
   ]
  },
  {
   "cell_type": "code",
   "execution_count": 57,
   "metadata": {},
   "outputs": [],
   "source": [
    "rfm = RandomForestRegressor()"
   ]
  },
  {
   "cell_type": "code",
   "execution_count": 58,
   "metadata": {},
   "outputs": [
    {
     "data": {
      "text/plain": [
       "RandomForestRegressor()"
      ]
     },
     "execution_count": 58,
     "metadata": {},
     "output_type": "execute_result"
    }
   ],
   "source": [
    "rfm.fit(train_imputed, ytrain)"
   ]
  },
  {
   "cell_type": "code",
   "execution_count": 59,
   "metadata": {},
   "outputs": [
    {
     "name": "stdout",
     "output_type": "stream",
     "text": [
      "[0.9205021  0.9130761  0.97026724 0.92180126 0.99167189 0.98449323\n",
      " 0.98865429 0.97447718 0.991802   0.97555019]\n",
      "Average R2\n",
      " 0.9632295485996604\n"
     ]
    }
   ],
   "source": [
    "scoresrfm = cross_val_score(rfm, train_imputed, ytrain, cv=10)\n",
    "print(scoresrfm)\n",
    "rfm_r2 = np.mean(scoresrfm)\n",
    "print(\"Average R2\\n\",rfm_r2)"
   ]
  },
  {
   "cell_type": "code",
   "execution_count": 61,
   "metadata": {},
   "outputs": [],
   "source": [
    "ypred_rfm = rfm.predict(test_imputed)"
   ]
  },
  {
   "cell_type": "code",
   "execution_count": 62,
   "metadata": {},
   "outputs": [
    {
     "name": "stdout",
     "output_type": "stream",
     "text": [
      "Test RMSE: 124.21068794592514\n"
     ]
    }
   ],
   "source": [
    "rfm_rmse = np.sqrt(mean_squared_error(ytest, ypred_rfm))\n",
    "print('Test RMSE:', rfm_rmse)"
   ]
  },
  {
   "cell_type": "code",
   "execution_count": 68,
   "metadata": {
    "scrolled": true
   },
   "outputs": [
    {
     "data": {
      "text/html": [
       "<div>\n",
       "<style scoped>\n",
       "    .dataframe tbody tr th:only-of-type {\n",
       "        vertical-align: middle;\n",
       "    }\n",
       "\n",
       "    .dataframe tbody tr th {\n",
       "        vertical-align: top;\n",
       "    }\n",
       "\n",
       "    .dataframe thead th {\n",
       "        text-align: right;\n",
       "    }\n",
       "</style>\n",
       "<table border=\"1\" class=\"dataframe\">\n",
       "  <thead>\n",
       "    <tr style=\"text-align: right;\">\n",
       "      <th></th>\n",
       "      <th>RMSE</th>\n",
       "      <th>R2 Score</th>\n",
       "    </tr>\n",
       "  </thead>\n",
       "  <tbody>\n",
       "    <tr>\n",
       "      <th>Decision Tree Regressor</th>\n",
       "      <td>115.062976</td>\n",
       "      <td>0.964749</td>\n",
       "    </tr>\n",
       "    <tr>\n",
       "      <th>Random Forest Regressor</th>\n",
       "      <td>124.210688</td>\n",
       "      <td>0.963230</td>\n",
       "    </tr>\n",
       "    <tr>\n",
       "      <th>Base Model</th>\n",
       "      <td>378.516426</td>\n",
       "      <td>0.902387</td>\n",
       "    </tr>\n",
       "    <tr>\n",
       "      <th>Base Model:Transformed Data</th>\n",
       "      <td>380.550599</td>\n",
       "      <td>0.903109</td>\n",
       "    </tr>\n",
       "    <tr>\n",
       "      <th>Best Fit:Decision Tree Regressor</th>\n",
       "      <td>906.311722</td>\n",
       "      <td>0.500309</td>\n",
       "    </tr>\n",
       "  </tbody>\n",
       "</table>\n",
       "</div>"
      ],
      "text/plain": [
       "                                        RMSE  R2 Score\n",
       "Decision Tree Regressor           115.062976  0.964749\n",
       "Random Forest Regressor           124.210688  0.963230\n",
       "Base Model                        378.516426  0.902387\n",
       "Base Model:Transformed Data       380.550599  0.903109\n",
       "Best Fit:Decision Tree Regressor  906.311722  0.500309"
      ]
     },
     "execution_count": 68,
     "metadata": {},
     "output_type": "execute_result"
    }
   ],
   "source": [
    "rmse_r2 = pd.DataFrame({\n",
    "                        'RMSE':[np.sqrt(mean_squared_error(ytest, ypred_lr)), np.sqrt(mean_squared_error(ytest, ypred_transformed)), dt_rmse, best_dt_rmse, rfm_rmse],\n",
    "                        'R2 Score':[np.mean(scoreslogreg), np.mean(scoreslogreg_v1), dt_r2, best_dt_r2, rfm_r2]},\n",
    "                        index=['Base Model', 'Base Model:Transformed Data','Decision Tree Regressor', 'Best Fit:Decision Tree Regressor', 'Random Forest Regressor'])\n",
    "rmse_r2.sort_values(by='RMSE', inplace=True)\n",
    "rmse_r2"
   ]
  },
  {
   "cell_type": "markdown",
   "metadata": {},
   "source": [
    "### Preparing Data for Submission"
   ]
  },
  {
   "cell_type": "code",
   "execution_count": 69,
   "metadata": {},
   "outputs": [
    {
     "data": {
      "text/plain": [
       "array([3625.42,  755.73, 1210.82, 4659.79, 1055.85, 1539.93, 4659.79,\n",
       "       1055.85, 1539.93, 4659.79, 1055.85, 1539.93, 4659.79, 1055.85,\n",
       "       1539.93, 4659.79, 1055.85, 1539.93, 4659.79, 1055.85, 1539.93,\n",
       "       4659.79, 1055.85, 1539.93, 4659.79, 1055.85, 1539.93, 4659.79,\n",
       "       1055.85, 1539.93, 4659.79, 1055.85, 1539.93, 4659.79, 1055.85,\n",
       "       1539.93])"
      ]
     },
     "execution_count": 69,
     "metadata": {},
     "output_type": "execute_result"
    }
   ],
   "source": [
    "submit_pred_v3 = rfm.predict(submit_encoded)\n",
    "submit_pred_v3"
   ]
  },
  {
   "cell_type": "code",
   "execution_count": 71,
   "metadata": {
    "scrolled": true
   },
   "outputs": [],
   "source": [
    "submit_v3 = pd.DataFrame({\"Year\": np.arange(1,37), \"Sales(In ThousandDollars)\":submit_pred_v3})"
   ]
  },
  {
   "cell_type": "markdown",
   "metadata": {},
   "source": [
    "submit_v3.to_csv(\"submit_v3.csv\", index = False)"
   ]
  },
  {
   "cell_type": "markdown",
   "metadata": {},
   "source": [
    "## `GridSearchCV for Best Params`"
   ]
  },
  {
   "cell_type": "code",
   "execution_count": 73,
   "metadata": {},
   "outputs": [],
   "source": [
    "rfm_tuned_parameters = [{'criterion':['mse'],\n",
    "                         'max_depth':range(2,5),\n",
    "                         'max_features':['sqrt','log2'],\n",
    "                         'min_samples_split':range(2,5),\n",
    "                         'min_samples_leaf':range(1,5),\n",
    "                         'max_leaf_nodes':range(2,5)}]"
   ]
  },
  {
   "cell_type": "code",
   "execution_count": 74,
   "metadata": {},
   "outputs": [],
   "source": [
    "gridcv = GridSearchCV(estimator=RandomForestRegressor(), param_grid=rfm_tuned_parameters)"
   ]
  },
  {
   "cell_type": "code",
   "execution_count": 75,
   "metadata": {},
   "outputs": [],
   "source": [
    "dt_gridmodel = gridcv.fit(train_imputed, ytrain)"
   ]
  },
  {
   "cell_type": "code",
   "execution_count": 76,
   "metadata": {
    "scrolled": true
   },
   "outputs": [
    {
     "data": {
      "text/plain": [
       "{'criterion': 'mse',\n",
       " 'max_depth': 4,\n",
       " 'max_features': 'log2',\n",
       " 'max_leaf_nodes': 4,\n",
       " 'min_samples_leaf': 2,\n",
       " 'min_samples_split': 4}"
      ]
     },
     "execution_count": 76,
     "metadata": {},
     "output_type": "execute_result"
    }
   ],
   "source": [
    "dt_gridmodel.best_params_"
   ]
  },
  {
   "cell_type": "markdown",
   "metadata": {},
   "source": [
    "## `Best Fit DT Model`"
   ]
  },
  {
   "cell_type": "code",
   "execution_count": 77,
   "metadata": {},
   "outputs": [
    {
     "data": {
      "text/plain": [
       "RandomForestRegressor(max_depth=4, max_features='log2', max_leaf_nodes=4,\n",
       "                      min_samples_leaf=2, min_samples_split=4)"
      ]
     },
     "execution_count": 77,
     "metadata": {},
     "output_type": "execute_result"
    }
   ],
   "source": [
    "best_rfmmodel = RandomForestRegressor(criterion= 'mse',\n",
    "                                max_depth= 4,\n",
    "                                max_features= 'log2',\n",
    "                                max_leaf_nodes= 4,\n",
    "                                min_samples_leaf= 2,\n",
    "                                min_samples_split= 4)\n",
    "best_rfmmodel.fit(train_imputed, ytrain)"
   ]
  },
  {
   "cell_type": "code",
   "execution_count": 78,
   "metadata": {},
   "outputs": [
    {
     "name": "stdout",
     "output_type": "stream",
     "text": [
      "[0.89466406 0.84160891 0.89179193 0.82380303 0.91743826 0.89025734\n",
      " 0.8066071  0.92917021 0.90650838 0.87282137]\n",
      "Average R2\n",
      " 0.8774670588117127\n"
     ]
    }
   ],
   "source": [
    "scores_best_rfm = cross_val_score(best_rfmmodel, train_imputed, ytrain, cv=10)\n",
    "print(scores_best_rfm)\n",
    "best_rfm_r2 = np.mean(scores_best_rfm)\n",
    "print(\"Average R2\\n\",best_rfm_r2)"
   ]
  },
  {
   "cell_type": "code",
   "execution_count": 79,
   "metadata": {},
   "outputs": [],
   "source": [
    "ypred_bestrfm = best_rfmmodel.predict(test_imputed)"
   ]
  },
  {
   "cell_type": "code",
   "execution_count": 80,
   "metadata": {},
   "outputs": [
    {
     "name": "stdout",
     "output_type": "stream",
     "text": [
      "Test RMSE: 372.28054777645724\n"
     ]
    }
   ],
   "source": [
    "best_rfm_rmse = np.sqrt(mean_squared_error(ytest, ypred_bestrfm))\n",
    "print('Test RMSE:', best_rfm_rmse)"
   ]
  },
  {
   "cell_type": "code",
   "execution_count": 81,
   "metadata": {
    "scrolled": true
   },
   "outputs": [
    {
     "data": {
      "text/html": [
       "<div>\n",
       "<style scoped>\n",
       "    .dataframe tbody tr th:only-of-type {\n",
       "        vertical-align: middle;\n",
       "    }\n",
       "\n",
       "    .dataframe tbody tr th {\n",
       "        vertical-align: top;\n",
       "    }\n",
       "\n",
       "    .dataframe thead th {\n",
       "        text-align: right;\n",
       "    }\n",
       "</style>\n",
       "<table border=\"1\" class=\"dataframe\">\n",
       "  <thead>\n",
       "    <tr style=\"text-align: right;\">\n",
       "      <th></th>\n",
       "      <th>RMSE</th>\n",
       "      <th>R2 Score</th>\n",
       "    </tr>\n",
       "  </thead>\n",
       "  <tbody>\n",
       "    <tr>\n",
       "      <th>Decision Tree Regressor</th>\n",
       "      <td>115.062976</td>\n",
       "      <td>0.964749</td>\n",
       "    </tr>\n",
       "    <tr>\n",
       "      <th>Random Forest Regressor</th>\n",
       "      <td>124.210688</td>\n",
       "      <td>0.963230</td>\n",
       "    </tr>\n",
       "    <tr>\n",
       "      <th>Best Fit Random Forest Regressor</th>\n",
       "      <td>372.280548</td>\n",
       "      <td>0.877467</td>\n",
       "    </tr>\n",
       "    <tr>\n",
       "      <th>Base Model</th>\n",
       "      <td>378.516426</td>\n",
       "      <td>0.902387</td>\n",
       "    </tr>\n",
       "    <tr>\n",
       "      <th>Base Model:Transformed Data</th>\n",
       "      <td>380.550599</td>\n",
       "      <td>0.903109</td>\n",
       "    </tr>\n",
       "    <tr>\n",
       "      <th>Best Fit:Decision Tree Regressor</th>\n",
       "      <td>906.311722</td>\n",
       "      <td>0.500309</td>\n",
       "    </tr>\n",
       "  </tbody>\n",
       "</table>\n",
       "</div>"
      ],
      "text/plain": [
       "                                        RMSE  R2 Score\n",
       "Decision Tree Regressor           115.062976  0.964749\n",
       "Random Forest Regressor           124.210688  0.963230\n",
       "Best Fit Random Forest Regressor  372.280548  0.877467\n",
       "Base Model                        378.516426  0.902387\n",
       "Base Model:Transformed Data       380.550599  0.903109\n",
       "Best Fit:Decision Tree Regressor  906.311722  0.500309"
      ]
     },
     "execution_count": 81,
     "metadata": {},
     "output_type": "execute_result"
    }
   ],
   "source": [
    "rmse_r2 = pd.DataFrame({\n",
    "                        'RMSE':[np.sqrt(mean_squared_error(ytest, ypred_lr)), np.sqrt(mean_squared_error(ytest, ypred_transformed)), dt_rmse, best_dt_rmse, rfm_rmse, best_rfm_rmse],\n",
    "                        'R2 Score':[np.mean(scoreslogreg), np.mean(scoreslogreg_v1), dt_r2, best_dt_r2, rfm_r2, best_rfm_r2]},\n",
    "                        index=['Base Model', 'Base Model:Transformed Data','Decision Tree Regressor', 'Best Fit:Decision Tree Regressor', 'Random Forest Regressor', 'Best Fit Random Forest Regressor'])\n",
    "rmse_r2.sort_values(by='RMSE', inplace=True)\n",
    "rmse_r2"
   ]
  },
  {
   "cell_type": "markdown",
   "metadata": {},
   "source": [
    "### Preparing Data for Submission"
   ]
  },
  {
   "cell_type": "code",
   "execution_count": 83,
   "metadata": {},
   "outputs": [
    {
     "data": {
      "text/plain": [
       "array([3225.30641107,  978.83675358, 1005.75587379, 3483.85548693,\n",
       "       1056.24496372, 1036.301343  , 3483.85548693, 1056.24496372,\n",
       "       1036.301343  , 3483.85548693, 1056.24496372, 1036.301343  ,\n",
       "       3483.85548693, 1056.24496372, 1036.301343  , 3483.85548693,\n",
       "       1056.24496372, 1036.301343  , 3483.85548693, 1056.24496372,\n",
       "       1036.301343  , 3483.85548693, 1056.24496372, 1036.301343  ,\n",
       "       3483.85548693, 1056.24496372, 1036.301343  , 3483.85548693,\n",
       "       1056.24496372, 1036.301343  , 3483.85548693, 1056.24496372,\n",
       "       1036.301343  , 3483.85548693, 1056.24496372, 1036.301343  ])"
      ]
     },
     "execution_count": 83,
     "metadata": {},
     "output_type": "execute_result"
    }
   ],
   "source": [
    "submit_pred_v4 = best_rfmmodel.predict(submit_encoded)\n",
    "submit_pred_v4"
   ]
  },
  {
   "cell_type": "code",
   "execution_count": 86,
   "metadata": {
    "scrolled": true
   },
   "outputs": [],
   "source": [
    "submit_v4 = pd.DataFrame({\"Year\": np.arange(1,37), \"Sales(In ThousandDollars)\":submit_pred_v4})"
   ]
  },
  {
   "cell_type": "code",
   "execution_count": 87,
   "metadata": {},
   "outputs": [],
   "source": [
    "submit_v4.to_csv(\"submit_v4.csv\", index = False)"
   ]
  },
  {
   "cell_type": "markdown",
   "metadata": {},
   "source": [
    "# `AdaBoost Regressor`"
   ]
  },
  {
   "cell_type": "markdown",
   "metadata": {},
   "source": [
    "**Default Model**"
   ]
  },
  {
   "cell_type": "code",
   "execution_count": 88,
   "metadata": {},
   "outputs": [],
   "source": [
    "from sklearn.ensemble import AdaBoostRegressor"
   ]
  },
  {
   "cell_type": "code",
   "execution_count": 89,
   "metadata": {},
   "outputs": [],
   "source": [
    "ada = AdaBoostRegressor()"
   ]
  },
  {
   "cell_type": "code",
   "execution_count": 90,
   "metadata": {},
   "outputs": [
    {
     "data": {
      "text/plain": [
       "AdaBoostRegressor()"
      ]
     },
     "execution_count": 90,
     "metadata": {},
     "output_type": "execute_result"
    }
   ],
   "source": [
    "ada.fit(train_imputed, ytrain)"
   ]
  },
  {
   "cell_type": "code",
   "execution_count": 91,
   "metadata": {},
   "outputs": [
    {
     "name": "stdout",
     "output_type": "stream",
     "text": [
      "[0.89140381 0.94995657 0.92795788 0.87896523 0.98205935 0.96001885\n",
      " 0.97070641 0.97284    0.97975043 0.94643467]\n",
      "Average R2\n",
      " 0.9460093193819311\n"
     ]
    }
   ],
   "source": [
    "scoresada = cross_val_score(ada, train_imputed, ytrain, cv=10)\n",
    "print(scoresada)\n",
    "ada_r2 = np.mean(scoresada)\n",
    "print(\"Average R2\\n\",ada_r2)"
   ]
  },
  {
   "cell_type": "code",
   "execution_count": 92,
   "metadata": {},
   "outputs": [],
   "source": [
    "ypred_ada = ada.predict(test_imputed)"
   ]
  },
  {
   "cell_type": "code",
   "execution_count": 93,
   "metadata": {},
   "outputs": [
    {
     "name": "stdout",
     "output_type": "stream",
     "text": [
      "Test RMSE: 163.01635123871478\n"
     ]
    }
   ],
   "source": [
    "ada_rmse = np.sqrt(mean_squared_error(ytest, ypred_ada))\n",
    "print('Test RMSE:', ada_rmse)"
   ]
  },
  {
   "cell_type": "code",
   "execution_count": 94,
   "metadata": {
    "scrolled": true
   },
   "outputs": [
    {
     "data": {
      "text/html": [
       "<div>\n",
       "<style scoped>\n",
       "    .dataframe tbody tr th:only-of-type {\n",
       "        vertical-align: middle;\n",
       "    }\n",
       "\n",
       "    .dataframe tbody tr th {\n",
       "        vertical-align: top;\n",
       "    }\n",
       "\n",
       "    .dataframe thead th {\n",
       "        text-align: right;\n",
       "    }\n",
       "</style>\n",
       "<table border=\"1\" class=\"dataframe\">\n",
       "  <thead>\n",
       "    <tr style=\"text-align: right;\">\n",
       "      <th></th>\n",
       "      <th>RMSE</th>\n",
       "      <th>R2 Score</th>\n",
       "    </tr>\n",
       "  </thead>\n",
       "  <tbody>\n",
       "    <tr>\n",
       "      <th>Decision Tree Regressor</th>\n",
       "      <td>115.062976</td>\n",
       "      <td>0.964749</td>\n",
       "    </tr>\n",
       "    <tr>\n",
       "      <th>Random Forest Regressor</th>\n",
       "      <td>124.210688</td>\n",
       "      <td>0.963230</td>\n",
       "    </tr>\n",
       "    <tr>\n",
       "      <th>AdaBoost Regressor</th>\n",
       "      <td>163.016351</td>\n",
       "      <td>0.946009</td>\n",
       "    </tr>\n",
       "    <tr>\n",
       "      <th>Base Model</th>\n",
       "      <td>378.516426</td>\n",
       "      <td>0.902387</td>\n",
       "    </tr>\n",
       "    <tr>\n",
       "      <th>Base Model:Transformed Data</th>\n",
       "      <td>380.550599</td>\n",
       "      <td>0.903109</td>\n",
       "    </tr>\n",
       "    <tr>\n",
       "      <th>Best Fit:Decision Tree Regressor</th>\n",
       "      <td>906.311722</td>\n",
       "      <td>0.500309</td>\n",
       "    </tr>\n",
       "  </tbody>\n",
       "</table>\n",
       "</div>"
      ],
      "text/plain": [
       "                                        RMSE  R2 Score\n",
       "Decision Tree Regressor           115.062976  0.964749\n",
       "Random Forest Regressor           124.210688  0.963230\n",
       "AdaBoost Regressor                163.016351  0.946009\n",
       "Base Model                        378.516426  0.902387\n",
       "Base Model:Transformed Data       380.550599  0.903109\n",
       "Best Fit:Decision Tree Regressor  906.311722  0.500309"
      ]
     },
     "execution_count": 94,
     "metadata": {},
     "output_type": "execute_result"
    }
   ],
   "source": [
    "rmse_r2 = pd.DataFrame({\n",
    "                        'RMSE':[np.sqrt(mean_squared_error(ytest, ypred_lr)), np.sqrt(mean_squared_error(ytest, ypred_transformed)), dt_rmse, best_dt_rmse, rfm_rmse, ada_rmse],\n",
    "                        'R2 Score':[np.mean(scoreslogreg), np.mean(scoreslogreg_v1), dt_r2, best_dt_r2, rfm_r2, ada_r2]},\n",
    "                        index=['Base Model', 'Base Model:Transformed Data','Decision Tree Regressor', 'Best Fit:Decision Tree Regressor', 'Random Forest Regressor','AdaBoost Regressor'])\n",
    "rmse_r2.sort_values(by='RMSE', inplace=True)\n",
    "rmse_r2"
   ]
  },
  {
   "cell_type": "markdown",
   "metadata": {},
   "source": [
    "### Preparing Data for Submission"
   ]
  },
  {
   "cell_type": "code",
   "execution_count": 95,
   "metadata": {},
   "outputs": [
    {
     "data": {
      "text/plain": [
       "array([3564.51388889,  738.83333333, 1211.375     , 4787.        ,\n",
       "       1081.        , 1398.        , 4787.        , 1081.        ,\n",
       "       1398.        , 4787.        , 1081.        , 1398.        ,\n",
       "       4787.        , 1081.        , 1398.        , 4787.        ,\n",
       "       1081.        , 1398.        , 4787.        , 1081.        ,\n",
       "       1398.        , 4787.        , 1081.        , 1398.        ,\n",
       "       4787.        , 1081.        , 1398.        , 4787.        ,\n",
       "       1081.        , 1398.        , 4787.        , 1081.        ,\n",
       "       1398.        , 4787.        , 1081.        , 1398.        ])"
      ]
     },
     "execution_count": 95,
     "metadata": {},
     "output_type": "execute_result"
    }
   ],
   "source": [
    "submit_pred_v5 = ada.predict(submit_encoded)\n",
    "submit_pred_v5"
   ]
  },
  {
   "cell_type": "code",
   "execution_count": 96,
   "metadata": {
    "scrolled": true
   },
   "outputs": [],
   "source": [
    "submit_v5 = pd.DataFrame({\"Year\": np.arange(1,37), \"Sales(In ThousandDollars)\":submit_pred_v5})"
   ]
  },
  {
   "cell_type": "markdown",
   "metadata": {},
   "source": [
    "submit_v5.to_csv(\"submit_v5.csv\", index = False)"
   ]
  },
  {
   "cell_type": "markdown",
   "metadata": {},
   "source": [
    "# `Gradient Boosting Regressor`"
   ]
  },
  {
   "cell_type": "markdown",
   "metadata": {},
   "source": [
    "**Default Model**"
   ]
  },
  {
   "cell_type": "code",
   "execution_count": 98,
   "metadata": {},
   "outputs": [],
   "source": [
    "from sklearn.ensemble import GradientBoostingRegressor"
   ]
  },
  {
   "cell_type": "code",
   "execution_count": 99,
   "metadata": {},
   "outputs": [],
   "source": [
    "gbr = GradientBoostingRegressor()"
   ]
  },
  {
   "cell_type": "code",
   "execution_count": 100,
   "metadata": {},
   "outputs": [
    {
     "data": {
      "text/plain": [
       "GradientBoostingRegressor()"
      ]
     },
     "execution_count": 100,
     "metadata": {},
     "output_type": "execute_result"
    }
   ],
   "source": [
    "gbr.fit(train_imputed, ytrain)"
   ]
  },
  {
   "cell_type": "code",
   "execution_count": 101,
   "metadata": {},
   "outputs": [
    {
     "name": "stdout",
     "output_type": "stream",
     "text": [
      "[0.97682326 0.96658591 0.97665251 0.97113919 0.99312728 0.98947089\n",
      " 0.99635068 0.98993731 0.98552897 0.98604785]\n",
      "Average R2\n",
      " 0.9831663839533624\n"
     ]
    }
   ],
   "source": [
    "scoresgbr = cross_val_score(gbr, train_imputed, ytrain, cv=10)\n",
    "print(scoresgbr)\n",
    "gbr_r2 = np.mean(scoresgbr)\n",
    "print(\"Average R2\\n\",gbr_r2)"
   ]
  },
  {
   "cell_type": "code",
   "execution_count": 102,
   "metadata": {},
   "outputs": [],
   "source": [
    "ypred_gbr = gbr.predict(test_imputed)"
   ]
  },
  {
   "cell_type": "code",
   "execution_count": 103,
   "metadata": {},
   "outputs": [
    {
     "name": "stdout",
     "output_type": "stream",
     "text": [
      "Test RMSE: 93.07308242734709\n"
     ]
    }
   ],
   "source": [
    "gbr_rmse = np.sqrt(mean_squared_error(ytest, ypred_gbr))\n",
    "print('Test RMSE:', gbr_rmse)"
   ]
  },
  {
   "cell_type": "code",
   "execution_count": 105,
   "metadata": {
    "scrolled": true
   },
   "outputs": [
    {
     "data": {
      "text/html": [
       "<div>\n",
       "<style scoped>\n",
       "    .dataframe tbody tr th:only-of-type {\n",
       "        vertical-align: middle;\n",
       "    }\n",
       "\n",
       "    .dataframe tbody tr th {\n",
       "        vertical-align: top;\n",
       "    }\n",
       "\n",
       "    .dataframe thead th {\n",
       "        text-align: right;\n",
       "    }\n",
       "</style>\n",
       "<table border=\"1\" class=\"dataframe\">\n",
       "  <thead>\n",
       "    <tr style=\"text-align: right;\">\n",
       "      <th></th>\n",
       "      <th>RMSE</th>\n",
       "      <th>R2 Score</th>\n",
       "    </tr>\n",
       "  </thead>\n",
       "  <tbody>\n",
       "    <tr>\n",
       "      <th>Gradient Boosting</th>\n",
       "      <td>93.073082</td>\n",
       "      <td>0.983166</td>\n",
       "    </tr>\n",
       "    <tr>\n",
       "      <th>Decision Tree Regressor</th>\n",
       "      <td>115.062976</td>\n",
       "      <td>0.964749</td>\n",
       "    </tr>\n",
       "    <tr>\n",
       "      <th>Random Forest Regressor</th>\n",
       "      <td>124.210688</td>\n",
       "      <td>0.963230</td>\n",
       "    </tr>\n",
       "    <tr>\n",
       "      <th>AdaBoost Regressor</th>\n",
       "      <td>163.016351</td>\n",
       "      <td>0.946009</td>\n",
       "    </tr>\n",
       "    <tr>\n",
       "      <th>Base Model</th>\n",
       "      <td>378.516426</td>\n",
       "      <td>0.902387</td>\n",
       "    </tr>\n",
       "    <tr>\n",
       "      <th>Base Model:Transformed Data</th>\n",
       "      <td>380.550599</td>\n",
       "      <td>0.903109</td>\n",
       "    </tr>\n",
       "    <tr>\n",
       "      <th>Best Fit:Decision Tree Regressor</th>\n",
       "      <td>906.311722</td>\n",
       "      <td>0.500309</td>\n",
       "    </tr>\n",
       "  </tbody>\n",
       "</table>\n",
       "</div>"
      ],
      "text/plain": [
       "                                        RMSE  R2 Score\n",
       "Gradient Boosting                  93.073082  0.983166\n",
       "Decision Tree Regressor           115.062976  0.964749\n",
       "Random Forest Regressor           124.210688  0.963230\n",
       "AdaBoost Regressor                163.016351  0.946009\n",
       "Base Model                        378.516426  0.902387\n",
       "Base Model:Transformed Data       380.550599  0.903109\n",
       "Best Fit:Decision Tree Regressor  906.311722  0.500309"
      ]
     },
     "execution_count": 105,
     "metadata": {},
     "output_type": "execute_result"
    }
   ],
   "source": [
    "rmse_r2 = pd.DataFrame({\n",
    "                        'RMSE':[np.sqrt(mean_squared_error(ytest, ypred_lr)), np.sqrt(mean_squared_error(ytest, ypred_transformed)), dt_rmse, best_dt_rmse, rfm_rmse, ada_rmse, gbr_rmse],\n",
    "                        'R2 Score':[np.mean(scoreslogreg), np.mean(scoreslogreg_v1), dt_r2, best_dt_r2, rfm_r2, ada_r2, gbr_r2]},\n",
    "                        index=['Base Model', 'Base Model:Transformed Data','Decision Tree Regressor', 'Best Fit:Decision Tree Regressor', 'Random Forest Regressor','AdaBoost Regressor', 'Gradient Boosting'])\n",
    "rmse_r2.sort_values(by=['RMSE','R2 Score'], inplace=True)\n",
    "rmse_r2"
   ]
  },
  {
   "cell_type": "markdown",
   "metadata": {},
   "source": [
    "### Preparing Data for Submission"
   ]
  },
  {
   "cell_type": "code",
   "execution_count": 106,
   "metadata": {},
   "outputs": [
    {
     "data": {
      "text/plain": [
       "array([3609.17985073,  766.66258254, 1222.15140338, 4862.18361904,\n",
       "       1070.01871775, 1567.26486729, 4862.18361904, 1070.01871775,\n",
       "       1567.26486729, 4862.18361904, 1070.01871775, 1567.26486729,\n",
       "       4862.18361904, 1070.01871775, 1567.26486729, 4862.18361904,\n",
       "       1070.01871775, 1567.26486729, 4862.18361904, 1070.01871775,\n",
       "       1567.26486729, 4862.18361904, 1070.01871775, 1567.26486729,\n",
       "       4862.18361904, 1070.01871775, 1567.26486729, 4862.18361904,\n",
       "       1070.01871775, 1567.26486729, 4862.18361904, 1070.01871775,\n",
       "       1567.26486729, 4862.18361904, 1070.01871775, 1567.26486729])"
      ]
     },
     "execution_count": 106,
     "metadata": {},
     "output_type": "execute_result"
    }
   ],
   "source": [
    "submit_pred_v6 = gbr.predict(submit_encoded)\n",
    "submit_pred_v6"
   ]
  },
  {
   "cell_type": "code",
   "execution_count": 107,
   "metadata": {
    "scrolled": true
   },
   "outputs": [],
   "source": [
    "submit_v6 = pd.DataFrame({\"Year\": np.arange(1,37), \"Sales(In ThousandDollars)\":submit_pred_v6})"
   ]
  },
  {
   "cell_type": "code",
   "execution_count": 108,
   "metadata": {},
   "outputs": [],
   "source": [
    "submit_v6.to_csv(\"submit_v6.csv\", index = False)"
   ]
  },
  {
   "cell_type": "markdown",
   "metadata": {},
   "source": [
    "## **`Improving Model RMSE`**"
   ]
  },
  {
   "cell_type": "code",
   "execution_count": 114,
   "metadata": {},
   "outputs": [
    {
     "data": {
      "text/html": [
       "<div>\n",
       "<style scoped>\n",
       "    .dataframe tbody tr th:only-of-type {\n",
       "        vertical-align: middle;\n",
       "    }\n",
       "\n",
       "    .dataframe tbody tr th {\n",
       "        vertical-align: top;\n",
       "    }\n",
       "\n",
       "    .dataframe thead th {\n",
       "        text-align: right;\n",
       "    }\n",
       "</style>\n",
       "<table border=\"1\" class=\"dataframe\">\n",
       "  <thead>\n",
       "    <tr style=\"text-align: right;\">\n",
       "      <th></th>\n",
       "      <th>Year</th>\n",
       "      <th>Month</th>\n",
       "      <th>ProductCategory_OtherClothing</th>\n",
       "      <th>ProductCategory_WomenClothing</th>\n",
       "    </tr>\n",
       "  </thead>\n",
       "  <tbody>\n",
       "    <tr>\n",
       "      <th>0</th>\n",
       "      <td>-1.349266</td>\n",
       "      <td>-1.758689</td>\n",
       "      <td>1.373450</td>\n",
       "      <td>-0.715475</td>\n",
       "    </tr>\n",
       "    <tr>\n",
       "      <th>1</th>\n",
       "      <td>-0.665303</td>\n",
       "      <td>1.232282</td>\n",
       "      <td>-0.728094</td>\n",
       "      <td>1.397672</td>\n",
       "    </tr>\n",
       "    <tr>\n",
       "      <th>2</th>\n",
       "      <td>0.017437</td>\n",
       "      <td>0.438880</td>\n",
       "      <td>1.373450</td>\n",
       "      <td>-0.715475</td>\n",
       "    </tr>\n",
       "    <tr>\n",
       "      <th>3</th>\n",
       "      <td>-0.665303</td>\n",
       "      <td>-1.758689</td>\n",
       "      <td>1.373450</td>\n",
       "      <td>-0.715475</td>\n",
       "    </tr>\n",
       "    <tr>\n",
       "      <th>4</th>\n",
       "      <td>0.017437</td>\n",
       "      <td>-1.758689</td>\n",
       "      <td>-0.728094</td>\n",
       "      <td>-0.715475</td>\n",
       "    </tr>\n",
       "    <tr>\n",
       "      <th>...</th>\n",
       "      <td>...</td>\n",
       "      <td>...</td>\n",
       "      <td>...</td>\n",
       "      <td>...</td>\n",
       "    </tr>\n",
       "    <tr>\n",
       "      <th>122</th>\n",
       "      <td>0.698994</td>\n",
       "      <td>-0.419668</td>\n",
       "      <td>-0.728094</td>\n",
       "      <td>1.397672</td>\n",
       "    </tr>\n",
       "    <tr>\n",
       "      <th>123</th>\n",
       "      <td>-0.665303</td>\n",
       "      <td>1.232282</td>\n",
       "      <td>-0.728094</td>\n",
       "      <td>-0.715475</td>\n",
       "    </tr>\n",
       "    <tr>\n",
       "      <th>124</th>\n",
       "      <td>-1.349266</td>\n",
       "      <td>-0.124324</td>\n",
       "      <td>-0.728094</td>\n",
       "      <td>1.397672</td>\n",
       "    </tr>\n",
       "    <tr>\n",
       "      <th>125</th>\n",
       "      <td>0.698994</td>\n",
       "      <td>0.709323</td>\n",
       "      <td>1.373450</td>\n",
       "      <td>-0.715475</td>\n",
       "    </tr>\n",
       "    <tr>\n",
       "      <th>126</th>\n",
       "      <td>-1.349266</td>\n",
       "      <td>-0.726703</td>\n",
       "      <td>-0.728094</td>\n",
       "      <td>1.397672</td>\n",
       "    </tr>\n",
       "  </tbody>\n",
       "</table>\n",
       "<p>127 rows × 4 columns</p>\n",
       "</div>"
      ],
      "text/plain": [
       "         Year     Month  ProductCategory_OtherClothing  \\\n",
       "0   -1.349266 -1.758689                       1.373450   \n",
       "1   -0.665303  1.232282                      -0.728094   \n",
       "2    0.017437  0.438880                       1.373450   \n",
       "3   -0.665303 -1.758689                       1.373450   \n",
       "4    0.017437 -1.758689                      -0.728094   \n",
       "..        ...       ...                            ...   \n",
       "122  0.698994 -0.419668                      -0.728094   \n",
       "123 -0.665303  1.232282                      -0.728094   \n",
       "124 -1.349266 -0.124324                      -0.728094   \n",
       "125  0.698994  0.709323                       1.373450   \n",
       "126 -1.349266 -0.726703                      -0.728094   \n",
       "\n",
       "     ProductCategory_WomenClothing  \n",
       "0                        -0.715475  \n",
       "1                         1.397672  \n",
       "2                        -0.715475  \n",
       "3                        -0.715475  \n",
       "4                        -0.715475  \n",
       "..                             ...  \n",
       "122                       1.397672  \n",
       "123                      -0.715475  \n",
       "124                       1.397672  \n",
       "125                      -0.715475  \n",
       "126                       1.397672  \n",
       "\n",
       "[127 rows x 4 columns]"
      ]
     },
     "execution_count": 114,
     "metadata": {},
     "output_type": "execute_result"
    }
   ],
   "source": [
    "train_imputed"
   ]
  }
 ],
 "metadata": {
  "kernelspec": {
   "display_name": "Python 3",
   "language": "python",
   "name": "python3"
  },
  "language_info": {
   "codemirror_mode": {
    "name": "ipython",
    "version": 3
   },
   "file_extension": ".py",
   "mimetype": "text/x-python",
   "name": "python",
   "nbconvert_exporter": "python",
   "pygments_lexer": "ipython3",
   "version": "3.8.5"
  }
 },
 "nbformat": 4,
 "nbformat_minor": 4
}
